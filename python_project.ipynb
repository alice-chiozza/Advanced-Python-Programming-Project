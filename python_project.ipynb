{
 "cells": [
  {
   "cell_type": "code",
   "execution_count": null,
   "metadata": {},
   "outputs": [
    {
     "name": "stdout",
     "output_type": "stream",
     "text": [
      "   Node        Vector                                         Likelihood\n",
      "0     1  [1, 0, 0, 0]  [0.9458076147464147, 0.01806412841786178, 0.01...\n",
      "1     2  [1, 0, 0, 0]  [0.8056136655112883, 0.06479544482957053, 0.06...\n",
      "2     3  [0, 1, 0, 0]  [0.007388616612872956, 0.9778341501613811, 0.0...\n",
      "3     4  [0, 1, 0, 0]  [0.034823005893735555, 0.8955309823187934, 0.0...\n",
      "4     5  [0, 1, 0, 0]  [0.014558866603937822, 0.9563234001881865, 0.0...\n",
      "5     6  [0, 0, 0, 0]                               [0.0, 0.0, 0.0, 0.0]\n",
      "6     7  [0, 0, 0, 0]                               [0.0, 0.0, 0.0, 0.0]\n",
      "7     8  [0, 0, 0, 0]                               [0.0, 0.0, 0.0, 0.0]\n",
      "8     9  [0, 0, 0, 0]                               [0.0, 0.0, 0.0, 0.0]\n",
      "  Parent  Child  Length                                          Sequences\n",
      "0      9      1    0.10  [A, G, A, T, C, A, A, G, A, T, C, A, A, G, A, ...\n",
      "1      9      2    0.40  [A, G, C, T, C, A, A, G, C, T, C, A, A, G, C, ...\n",
      "2      8      3    0.04  [C, G, C, T, A, T, C, G, C, T, A, T, C, G, C, ...\n",
      "3      7      4    0.20  [C, G, T, T, A, C, C, G, T, T, A, C, C, G, T, ...\n",
      "4      7      5    0.08  [C, G, C, T, A, C, C, G, C, T, A, C, C, G, C, ...\n",
      "5     NA      6    0.00                                                NaN\n",
      "6      6      7    0.12                                                NaN\n",
      "7      6      8    0.14                                                NaN\n",
      "8      8      9    0.01                                                NaN\n",
      "2    3\n",
      "8    9\n",
      "Name: Child, dtype: int64\n"
     ]
    }
   ],
   "source": [
    "import numpy as np\n",
    "import pandas as pd\n",
    "import scipy as sc\n",
    "\n",
    "def getDF(pc, bl, seqs): # pc = parent child .dat, bl = branch lengths .dat, seqs = sequences info .dat\n",
    "    parent_kids = pd.read_csv(pc, delimiter =',', names = ['Parent', 'Child']) # load up the parent child table\n",
    "    branches = pd.DataFrame({\"Length\": list(open(bl))[0].split(',')}).astype(float) # load up the branch lengths\n",
    "    combined = pd.concat([parent_kids, branches, pd.DataFrame({\"Sequences\" : [\"NA\"]*len(parent_kids)})], axis = 1) # add NA for sequences\n",
    "    m = max(combined[\"Parent\"]) # biggest parent\n",
    "    \n",
    "    sequences = pd.read_csv(seqs, header = None, delimiter = \" \") # load up sequences for terminal nodes\n",
    "    sequences.columns =[\"Child\", \"Sequence\"] # give column names\n",
    "    sequences[\"Sequence\"] = [list(x) for x in sequences[\"Sequence\"]] # make each sequence string into individual characters\n",
    "    seql = len(sequences.iloc[1,1]) # sequence length\n",
    "    \n",
    "    merged_combined = pd.merge(combined, sequences, on='Child', how='left')\n",
    "    combined['Sequences'] = merged_combined['Sequence']\n",
    "\n",
    "    a = [x for x in range(1, m) if (x in list(combined[\"Child\"])) == False] # get the ancestral node\n",
    "    anc_row = pd.DataFrame({\"Parent\" : [\"NA\"], \"Child\" : a, \"Length\" : [0]}) # make row for ancestral node\n",
    "    combined = pd.concat([combined, anc_row], ignore_index = True)\n",
    "    combined = combined.sort_values(\"Child\", ignore_index = True)\n",
    "\n",
    "    return combined, seql, m\n",
    "\n",
    "tree, seql, m = getDF(\"/Users/cmco/Desktop/APP/table.dat\", \"/Users/cmco/Desktop/APP/branchlength.dat\", \"/Users/cmco/Desktop/APP/msa.dat\") # load up a dataframe\n",
    "\n",
    "nts = ['A', 'C', 'G', 'T'] # nucleotides \n",
    "\n",
    "def get_vectors(i, m, nts): # i = index of nucleotide, m = biggest parent, nts = nucleotides\n",
    "    lh_table = pd.DataFrame({\"Node\" : list(range(1,m+1,1)), \"Vector\" : m*[[0,0,0,0]], \"Likelihood\" : m*[\"NA\"]}) # make a dataframe\n",
    "    c = [x for x in tree[\"Sequences\"] if type(x) == list] #store sequences != NaN\n",
    "    \n",
    "    for y in range(len(c)): # for each sequence\n",
    "        lh_table.at[y, \"Vector\"] = [1 if c[y][i] == nts[x] else 0 for x in range(len(nts))] # compare against nts, make into [1, 0, 0, 0] format\n",
    "\n",
    "    return lh_table\n",
    "\n",
    "lh_table = get_vectors(0, m, nts) # make the data frame with the vectors and likelihoods\n",
    "\n",
    "mu = 0.1875 \n",
    "q = np.array([[-3*mu, mu, mu, mu], [mu, -3*mu, mu, mu], [mu, mu, -3*mu, mu], [mu, mu, mu, -3*mu]])\n",
    "\n",
    "def comp_lh(q, bl, vector): # q = Jukes-Cantor matrix, bl = branch length of the node, vector = vector representation of the node\n",
    "    lh = np.matmul(sc.linalg.expm(q * bl), np.array(vector)) # compute likelihood for this particular node\n",
    "    return lh\n",
    "\n",
    "# compute likelihood for all the terminal nodes\n",
    "lh_table[\"Likelihood\"] = [comp_lh(q, tree.at[x, \"Length\"], lh_table.at[x, \"Vector\"]) for x in range(0, len(lh_table))]\n",
    "print(lh_table)\n",
    "print(tree)\n",
    "print(tree.query(\"Parent == 8\")[\"Child\"])\n",
    "\n"
   ]
  },
  {
   "cell_type": "code",
   "execution_count": 110,
   "metadata": {},
   "outputs": [
    {
     "name": "stdout",
     "output_type": "stream",
     "text": [
      "[0.94580761 0.01806413 0.01806413 0.01806413]\n",
      "[0.02660066 0.92019801 0.02660066 0.02660066]\n",
      "[np.float64(0.02515910983349637), np.float64(0.01662257502848707), np.float64(0.00048051779645823624), np.float64(0.0004805177964582362)]\n"
     ]
    }
   ],
   "source": [
    "mu = 0.1875 \n",
    "q = np.array([[-3*mu, mu, mu, mu], [mu, -3*mu, mu, mu], [mu, mu, -3*mu, mu], [mu, mu, mu, -3*mu]])\n",
    "\n",
    "vec1 = np.matmul(sc.linalg.expm(q * 0.1), np.array([1,0,0,0]))\n",
    "vec2 = np.matmul(sc.linalg.expm(q * 0.15), np.array([0,1,0,0]))\n",
    "print(vec1)\n",
    "print(vec2)\n",
    "\n",
    "vec_anc = [vec1[i] * vec2[i] for i in range(4)]\n",
    "print(vec_anc)"
   ]
  },
  {
   "cell_type": "code",
   "execution_count": null,
   "metadata": {},
   "outputs": [],
   "source": []
  }
 ],
 "metadata": {
  "kernelspec": {
   "display_name": "Python 3",
   "language": "python",
   "name": "python3"
  },
  "language_info": {
   "codemirror_mode": {
    "name": "ipython",
    "version": 3
   },
   "file_extension": ".py",
   "mimetype": "text/x-python",
   "name": "python",
   "nbconvert_exporter": "python",
   "pygments_lexer": "ipython3",
   "version": "3.13.0"
  }
 },
 "nbformat": 4,
 "nbformat_minor": 2
}
