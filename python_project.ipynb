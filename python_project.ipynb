{
 "cells": [
  {
   "cell_type": "code",
   "execution_count": null,
   "metadata": {},
   "outputs": [
    {
     "data": {
      "text/plain": [
       "    Parent Child  Lengths                       Sequences\n",
       "0        9     1     0.10                              NA\n",
       "1        9     2     0.40                              NA\n",
       "2        8     9     0.01                              NA\n",
       "3        8     3     0.04                              NA\n",
       "4        7     4     0.20                              NA\n",
       "5        7     5     0.08                              NA\n",
       "6        6     7     0.12                              NA\n",
       "7        6     8     0.14                              NA\n",
       "8        5    NA     0.00  CGCTACCGCTACCGCTACCGCTACCGCTAC\n",
       "9        4    NA     0.00  CGTTACCGTTACCGTTACCGTTACCGTTAC\n",
       "10       3    NA     0.00  CGCTATCGCTATCGCTATCGCTATCGCTAT\n",
       "11       2    NA     0.00  AGCTCAAGCTCAAGCTCAAGCTCAAGCTCA\n",
       "12       1    NA     0.00  AGATCAAGATCAAGATCAAGATCAAGATCA\n",
       "30\n"
      ]
     },
     "metadata": {},
     "output_type": "display_data"
    }
   ],
   "source": [
    "import numpy as np\n",
    "import pandas as pd\n",
    "\n",
    "def getDF(pc, bl, seqs):\n",
    "    parent_kids = pd.read_csv(pc, delimiter =',', names = ['Parent', 'Child']) # load up the parent child table\n",
    "    branches = pd.DataFrame({\"Lengths\": list(open(bl))[0].split(',')}).astype(float) # load up the branch lengths\n",
    "    combined = pd.concat([parent_kids, branches], axis = 1) # combine parent child table + branch lengths \n",
    "\n",
    "    n = min(parent_kids.loc[:,'Parent']) # smallest parent\n",
    "    l = range(n-1,0, -1) #list of numbers from the min-1 to 1\n",
    "\n",
    "    combined = pd.concat([combined, pd.DataFrame({\"Sequences\" : [\"NA\"]*len(combined[\"Parent\"])})], axis = 1) # add NA for sequences\n",
    "\n",
    "    sequences = pd.read_csv(seqs, header = None, delimiter = \" \") # load up sequences for terminal nodes\n",
    "    sequences = sequences.iloc[::-1] # order from highest to lowest\n",
    "    sequences.columns =[\"Parent\", \"Lengths\"] # give column names\n",
    "    seql = len(sequences.iloc[1,1])\n",
    "\n",
    "    # combine sequences, branch lengths for terminal nodes\n",
    "    kids = pd.DataFrame({\"Parent\" : list(l), \"Child\" : [\"NA\"]*len(l), \"Lengths\" : [0]*len(l), \"Sequences\" : sequences[\"Lengths\"]})\n",
    "\n",
    "    # return whole combined df\n",
    "    return pd.concat([combined, kids], ignore_index = True, axis = 0), seql\n",
    "\n",
    "tree, seql = getDF(\"/Users/cmco/Desktop/APP/table.dat\", \"/Users/cmco/Desktop/APP/branchlength.dat\", \"/Users/cmco/Desktop/APP/msa.dat\")\n",
    "print(tree)\n",
    "print(seql)\n",
    "\n",
    "def get_lh(mu, tree, seql):\n",
    "    subtree = tree.tail(list(tree[\"Child\"]).count(\"NA\"))\n",
    "    \n",
    "    #print(subtree)\n",
    "    #seql = len(subtree[\"Sequences\"])\n",
    "    #print(seql)\n",
    "    \n",
    "    #for x in subtree:\n",
    "\n",
    "\n",
    "get_lh(0.3, tree)\n"
   ]
  },
  {
   "cell_type": "code",
   "execution_count": null,
   "metadata": {},
   "outputs": [],
   "source": []
  },
  {
   "cell_type": "code",
   "execution_count": null,
   "metadata": {},
   "outputs": [],
   "source": []
  }
 ],
 "metadata": {
  "kernelspec": {
   "display_name": "Python 3",
   "language": "python",
   "name": "python3"
  },
  "language_info": {
   "codemirror_mode": {
    "name": "ipython",
    "version": 3
   },
   "file_extension": ".py",
   "mimetype": "text/x-python",
   "name": "python",
   "nbconvert_exporter": "python",
   "pygments_lexer": "ipython3",
   "version": "3.13.0"
  }
 },
 "nbformat": 4,
 "nbformat_minor": 2
}
