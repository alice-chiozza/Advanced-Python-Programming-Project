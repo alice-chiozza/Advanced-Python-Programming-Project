{
 "cells": [
  {
   "cell_type": "code",
   "execution_count": 5,
   "metadata": {},
   "outputs": [],
   "source": [
    "import numpy as np\n",
    "import pandas as pd\n",
    "\n",
    "class Tree():\n",
    "    def __init__(self, Sequence, Branch_Lengths, Parent_Child):\n",
    "        self.seq = Sequence\n",
    "        self.bl = Branch_Lengths\n",
    "        self.pc = Parent_Child\n",
    "        self.df = self.Getdataframe()\n",
    "\n",
    "    def Getdataframe(self):\n",
    "        p = pd.read_csv(self.Parent_Child, delimiter =',', names = ['Parent', 'Child'])\n",
    "        #p.sort() #finish sorting\n",
    "        n = min(p.loc[:,'Parent'])\n",
    "        l = range(n-1,0) #sequence of numbers for the min in parents to 1\n",
    "        c = [np.nan*len(l)] #sequence of NAs for the length of l\n",
    "\n",
    "        self.df  = pd.DataFrame({'Parent' : [p.loc[:,'Parent'], l], 'Child': [p.loc[:,'Child'], c], 'Branch Length': [self.bl,c.fillna(0)]})\n",
    "\n",
    "\n",
    "\n",
    "\n"
   ]
  }
 ],
 "metadata": {
  "kernelspec": {
   "display_name": "Python 3",
   "language": "python",
   "name": "python3"
  },
  "language_info": {
   "codemirror_mode": {
    "name": "ipython",
    "version": 3
   },
   "file_extension": ".py",
   "mimetype": "text/x-python",
   "name": "python",
   "nbconvert_exporter": "python",
   "pygments_lexer": "ipython3",
   "version": "3.13.0"
  }
 },
 "nbformat": 4,
 "nbformat_minor": 2
}
