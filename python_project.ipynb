{
 "cells": [
  {
   "cell_type": "code",
   "execution_count": null,
   "metadata": {},
   "outputs": [
    {
     "name": "stdout",
     "output_type": "stream",
     "text": [
      "/Users/cmco/Desktop/APP/table.dat\n",
      "-994.9694041428925\n"
     ]
    }
   ],
   "source": [
    "import numpy as np\n",
    "import pandas as pd\n",
    "import scipy as sc\n",
    "\n",
    "def getDF(pc, bl, seqs): # pc = parent child .dat, bl = branch lengths .dat, seqs = sequences info .dat\n",
    "    parent_kids = pd.read_csv(pc, delimiter =',', names = ['Parent', 'Child']) # load up the parent child table\n",
    "    branches = pd.DataFrame({\"Length\": list(open(bl))[0].split(',')}).astype(float) # load up the branch lengths\n",
    "    combined = pd.concat([parent_kids, branches, pd.DataFrame({\"Sequences\" : [\"NA\"]*len(parent_kids)})], axis = 1) # add NA for sequences\n",
    "    m = max(combined[\"Parent\"]) # biggest parent\n",
    "    \n",
    "    sequences = pd.read_csv(seqs, header = None, delimiter = \" \") # load up sequences for terminal nodes\n",
    "    sequences.columns =[\"Child\", \"Sequence\"] # give column names\n",
    "    sequences[\"Sequence\"] = [list(x) for x in sequences[\"Sequence\"]] # make each sequence string into individual characters\n",
    "    seql = len(sequences.iloc[1,1]) # sequence length\n",
    "    \n",
    "    merged_combined = pd.merge(combined, sequences, on='Child', how='left') # get sequences\n",
    "    combined['Sequences'] = merged_combined['Sequence'] # add sequences into the dataframe\n",
    "\n",
    "    a = [x for x in range(1, m) if (x in list(combined[\"Child\"])) == False] # get the ancestral node\n",
    "    anc_row = pd.DataFrame({\"Parent\" : [\"NA\"], \"Child\" : a, \"Length\" : [0]}) # make row for ancestral node\n",
    "    combined = pd.concat([combined, anc_row], ignore_index = True) # add ancestral node to the dataframe\n",
    "    combined = combined.sort_values(\"Child\", ignore_index = True) # sort dataframe by child\n",
    "\n",
    "    return combined, seql, m\n",
    "\n",
    "def get_vectors(i, m, nts): # i = index of nucleotide, m = biggest parent, nts = nucleotides\n",
    "    lh_table = pd.DataFrame({\"Node\" : list(range(1,m+1,1)), \"Vector\" : m*[[0,0,0,0]], \"Likelihood\" : m*[\"NA\"]}) # make a dataframe\n",
    "    c = [x for x in tree[\"Sequences\"] if type(x) == list] #store sequences != NaN\n",
    "    \n",
    "    for y in range(len(c)): # for each sequence\n",
    "        lh_table.at[y, \"Vector\"] = [1 if c[y][i] == nts[x] else 0 for x in range(len(nts))] # compare against nts, make into [1, 0, 0, 0] format\n",
    "\n",
    "    return lh_table\n",
    "\n",
    "def comp_lh(q, bl, vector): # q = Jukes-Cantor matrix, bl = branch length of the node, vector = vector representation of the node\n",
    "    lh = np.matmul(sc.linalg.expm(q * bl), np.array(vector)) # compute likelihood for this particular node\n",
    "    return lh\n",
    "\n",
    "def get_anclh(tree, lh_table, m):\n",
    "    for x in range(m, len([x for x in tree[\"Sequences\"] if type(x) == list]), -1): # for all non-terminal nodes\n",
    "        kids = list(tree.query(\"Parent == @x\")[\"Child\"]) # get kids associated with the node\n",
    "        # if likelihoods are computed for these kids:\n",
    "        if (lh_table.at[kids[0]-1, \"Likelihood\"] == 0.0).all() == False and (lh_table.at[kids[1]-1, \"Likelihood\"] == 0.0).all() == False: \n",
    "            multed = [lh_table.at[kids[0]-1, \"Likelihood\"][i] * lh_table.at[kids[1]-1, \"Likelihood\"][i] for i in range(4)] # combine kid vectors\n",
    "            lh_table.at[x-1, \"Likelihood\"] = comp_lh(q, tree.at[x-1, \"Length\"], multed) # compute likelihood for parent node\n",
    "    \n",
    "    check = [(x == 0.0).all() == True for x in lh_table[\"Likelihood\"]] # if it is zero, put True\n",
    "    if any(x for x in check) == True:\n",
    "        print(\"Warning - zeros present\")\n",
    "    lh_table[\"Likelihood\"] = [np.log(x) for x in lh_table[\"Likelihood\"]] # convert to log likelihood\n",
    "    return lh_table.at[len([x for x in tree[\"Sequences\"] if type(x) == list]), \"Likelihood\"] # return likelihood of ancestral node\n",
    "\n",
    "###################################################################################################\n",
    "\n",
    "file_path = \"/Users/cmco/Desktop/APP/\"\n",
    "\n",
    "tree, seql, m = getDF(f\"{file_path}table.dat\", f\"{file_path}branchlength.dat\", f\"{file_path}msa.dat\") # load up a dataframe\n",
    "nts = ['A', 'C', 'G', 'T'] # nucleotides \n",
    "mu = 0.3 # set mu\n",
    "q = np.array([[-3*mu, mu, mu, mu], [mu, -3*mu, mu, mu], [mu, mu, -3*mu, mu], [mu, mu, mu, -3*mu]]) # initialize Jukes-Cantor matrix\n",
    "\n",
    "all_lh = []\n",
    "for x in range(seql):\n",
    "    lh_table = get_vectors(x, m, nts) # make the data frame with the vectors and likelihoods\n",
    "    # compute likelihood for all the terminal nodes\n",
    "    lh_table[\"Likelihood\"] = [comp_lh(q, tree.at[x, \"Length\"], lh_table.at[x, \"Vector\"]) for x in range(0, m)]\n",
    "    anc_lh = get_anclh(tree, lh_table, m) # get likelihood of ancestral node \n",
    "    all_lh.append(anc_lh) # make list of all ancestral node LHs \n",
    "\n",
    "print(sum(sum(all_lh))) # sum all and print"
   ]
  },
  {
   "cell_type": "code",
   "execution_count": null,
   "metadata": {},
   "outputs": [
    {
     "name": "stdout",
     "output_type": "stream",
     "text": [
      "[0.94580761 0.01806413 0.01806413 0.01806413]\n",
      "[0.02660066 0.92019801 0.02660066 0.02660066]\n",
      "[np.float64(0.02515910983349637), np.float64(0.01662257502848707), np.float64(0.00048051779645823624), np.float64(0.0004805177964582362)]\n"
     ]
    }
   ],
   "source": [
    "mu = 0.1875 \n",
    "q = np.array([[-3*mu, mu, mu, mu], [mu, -3*mu, mu, mu], [mu, mu, -3*mu, mu], [mu, mu, mu, -3*mu]])\n",
    "\n",
    "vec1 = np.matmul(sc.linalg.expm(q * 0.1), np.array([1,0,0,0]))\n",
    "vec2 = np.matmul(sc.linalg.expm(q * 0.15), np.array([0,1,0,0]))\n",
    "print(vec1)\n",
    "print(vec2)\n",
    "\n",
    "vec_anc = [vec1[i] * vec2[i] for i in range(4)] # multiply 2 vectors to get likelihood of 3rd vec\n",
    "print(vec_anc)"
   ]
  },
  {
   "cell_type": "code",
   "execution_count": null,
   "metadata": {},
   "outputs": [],
   "source": []
  }
 ],
 "metadata": {
  "kernelspec": {
   "display_name": "Python 3",
   "language": "python",
   "name": "python3"
  },
  "language_info": {
   "codemirror_mode": {
    "name": "ipython",
    "version": 3
   },
   "file_extension": ".py",
   "mimetype": "text/x-python",
   "name": "python",
   "nbconvert_exporter": "python",
   "pygments_lexer": "ipython3",
   "version": "3.13.0"
  }
 },
 "nbformat": 4,
 "nbformat_minor": 2
}
