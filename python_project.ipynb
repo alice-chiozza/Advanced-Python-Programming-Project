{
 "cells": [
  {
   "cell_type": "code",
   "execution_count": null,
   "metadata": {},
   "outputs": [
    {
     "data": {
      "text/plain": [
       "    Parent Child Lengths\n",
       "0        9     1     0.1\n",
       "1        9     2     0.4\n",
       "2        8     9    0.01\n",
       "3        8     3    0.04\n",
       "4        7     4     0.2\n",
       "5        7     5    0.08\n",
       "6        6     7    0.12\n",
       "7        6     8    0.14\n",
       "8        5    NA      NA\n",
       "9        4    NA      NA\n",
       "10       3    NA      NA\n",
       "11       2    NA      NA\n",
       "12       1    NA      NA\n"
      ]
     },
     "metadata": {},
     "output_type": "display_data"
    }
   ],
   "source": [
    "import numpy as np\n",
    "import pandas as pd\n",
    "\n",
    "def getDF(pc, bl):\n",
    "    parent_kids = pd.read_csv(pc, delimiter =',', names = ['Parent', 'Child'])\n",
    "    branches = pd.DataFrame({\"Lengths\": list(open(bl))[0].split(',')})\n",
    "    combined = pd.concat([parent_kids, branches], axis = 1)\n",
    "    n = min(parent_kids.loc[:,'Parent']) # smallest parent\n",
    "    l = range(n-1,0, -1) #list of numbers from the min-1 to 1\n",
    "\n",
    "    kids = pd.DataFrame({\"Parent\" : list(l), \"Child\" : [\"NA\"]*len(l), \"Lengths\" : [\"NA\"]*len(l)})\n",
    "    return pd.concat([combined, kids], ignore_index = True, axis = 0)\n",
    "\n",
    "tree = getDF(\"/Users/cmco/Desktop/APP/table.dat\", \"/Users/cmco/Desktop/APP/branchlength.dat\")\n",
    "print(tree)\n",
    "\n",
    "\n"
   ]
  },
  {
   "cell_type": "code",
   "execution_count": null,
   "metadata": {},
   "outputs": [],
   "source": []
  }
 ],
 "metadata": {
  "kernelspec": {
   "display_name": "Python 3",
   "language": "python",
   "name": "python3"
  },
  "language_info": {
   "codemirror_mode": {
    "name": "ipython",
    "version": 3
   },
   "file_extension": ".py",
   "mimetype": "text/x-python",
   "name": "python",
   "nbconvert_exporter": "python",
   "pygments_lexer": "ipython3",
   "version": "3.13.0"
  }
 },
 "nbformat": 4,
 "nbformat_minor": 2
}
